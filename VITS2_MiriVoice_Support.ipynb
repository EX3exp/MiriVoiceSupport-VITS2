{
  "cells": [
    {
      "cell_type": "markdown",
      "metadata": {
        "id": "view-in-github",
        "colab_type": "text"
      },
      "source": [
        "<a href=\"https://colab.research.google.com/github/EX3exp/MiriVoiceSupport-VITS2/blob/main/VITS2_MiriVoice_Support.ipynb\" target=\"_parent\"><img src=\"https://colab.research.google.com/assets/colab-badge.svg\" alt=\"Open In Colab\"/></a>"
      ]
    },
    {
      "cell_type": "code",
      "execution_count": null,
      "metadata": {
        "cellView": "form",
        "id": "kys2jeeG3DNp",
        "collapsed": true
      },
      "outputs": [],
      "source": [
        "#@title 1. Set Up | 환경 설치\n",
        "#@markdown Please turn on your GPU. <br> Colab Pro is highly recommended, And  THERE'S NO NEED TO USE A100 - if you're willing to use default config file. (L4 IS ENOUGH)\n",
        "#@markdown <br>반드시 GPU를 활성화해 주세요. <br> Colab Pro를 추천하며, 가속기는 L4로 설정하면 딱 알맞습니다. (내장된 config 파일을 그대로 사용한다는 전제 하에, A100은 굳이 사용하지 않아도 됩니다.)\n",
        "\n",
        "print(f\"🔸 1. Cloning MiriVoiceSupport-VITS2 Github...\")\n",
        "!git clone https://github.com/EX3exp/MiriVoiceSupport-VITS2.git\n",
        "\n",
        "print(f\"✔️ Done!\")\n",
        "\n",
        "!apt-get install espeak\n",
        "\n",
        "\n",
        "print(\"\\n\\n\")\n",
        "print(f\"🔸 2. Installing Dependencies...\")\n",
        "\n",
        "!pip install tensorflow[and-cuda]==2.16.1\n",
        "!pip install -r /content/MiriVoiceSupport-VITS2/requirements.txt\n",
        "\n",
        "\n",
        "\n",
        "print(f\"✔️ Done!\")\n",
        "\n",
        "\n",
        "\n",
        "\n",
        "print(\"\\n\\n\")\n",
        "print(\"✔️✔️✔️ Please Restart Session! | 세션을 다시 시작해 주세요!\")\n"
      ]
    },
    {
      "cell_type": "code",
      "execution_count": null,
      "metadata": {
        "cellView": "form",
        "id": "nHgS_xYz1H-c"
      },
      "outputs": [],
      "source": [
        "#@title MiriVoice-VITS2 Voicer Making Notebook <br>미리보이스가 제공하는 VITS2 훈련용 콜랍 노트북이에요.\n",
        "#@markdown <br>MiriVoice Github ➡️ https://github.com/EX3exp/MiriVoice\n",
        "#@markdown <br><br> Reference | 참조자료 : <br> https://arxiv.org/abs/2307.16430 <br> https://github.com/p0p4k/vits2_pytorch\n",
        "\n",
        "#@markdown 📖 [EN] Please select Notebook's language. <br> Messages will be appeared with selected language.\n",
        "#@markdown <br>📖 [KO] 노트북의 언어를 골라 주세요. <br> 설정된 언어로 노트북의 메시지들이 표시됩니다.\n",
        "language = \"한국어\" #@param = [\"English\", \"한국어\"]"
      ]
    },
    {
      "cell_type": "code",
      "execution_count": null,
      "metadata": {
        "id": "nyXoGSTNK4s1",
        "cellView": "form"
      },
      "outputs": [],
      "source": [
        "#@title 0-1. Mount Google Drive | 구글 드라이브 마운트\n",
        "from google.colab import drive\n",
        "drive.mount('/content/drive')\n",
        "import os\n",
        "\n",
        "dir_paths = [\"/content/drive/MyDrive/MiriVoice/VITS2/train/dataset\", \"/content/drive/MyDrive/MiriVoice/VITS2/voicer\", \"/content/drive/MyDrive/MiriVoice/VITS2/checkpoints\"]\n",
        "\n",
        "train_main_path = \"/content/train\"\n",
        "\n",
        "if (language == \"English\"):\n",
        "    print(f\"✔️ Generated Directory in colab runtime -- {train_main_path}\")\n",
        "elif (language == \"한국어\"):\n",
        "    print(f\"✔️ 코랩 런타임 내에 폴더를 생성했어요 -- {train_main_path}\")\n",
        "\n",
        "os.makedirs(\"dir_path\", exist_ok=True)\n",
        "for dir_path in dir_paths:\n",
        "    os.makedirs(dir_path, exist_ok=True)\n",
        "    if (language == \"English\"):\n",
        "        print(f\"✔️ Generated Directory in google drive -- {dir_path}\")\n",
        "    elif (language == \"한국어\"):\n",
        "        print(f\"✔️ 구글 드라이브에 폴더를 생성했어요 -- {dir_path}\")\n",
        "\n",
        "\n",
        "import torch\n",
        "if torch.cuda.is_available():\n",
        "    print(f\"✔️ [Torch cuda is available] Current Torch Version Is: {torch.__version__}\")\n",
        "\n",
        "else :\n",
        "    print(f\"❗ [Torch cuda is Not Available] -- Please Enable GPU! | GPU를 활성화해 주세요! \")\n",
        "    exit()\n",
        "\n",
        "print()\n",
        "if (language == \"English\"):\n",
        "    print(f\"🧐 Please make sure YOUR 🗂️dataset.zip to be in your Google Drive's 📂MiriVoice/VITS2/train/dataset. \")\n",
        "elif (language == \"한국어\"):\n",
        "    print(f\"🧐 구글 드라이브의 📂MiriVoice/VITS2/train/dataset 에 🗂️dataset.zip이 들어가 있는지 잘 확인해 주세요. \")"
      ]
    },
    {
      "cell_type": "code",
      "execution_count": null,
      "metadata": {
        "cellView": "form",
        "id": "Y7kZgPzblkfr"
      },
      "outputs": [],
      "source": [
        "#@title 0-2. Choose Finetuning Model | 파인튜닝 모델\n",
        "#@markdown ⚠️If you want to resume training with your own checkpoints or do not want finetuning, please SKIP this cell. <br> ⚠️보유한 체크포인트를 사용해 이어서 훈련을 진행하려 하거나, 파인튜닝을 하지 않을 계획이라면, 이 셀을 실행할 필요가 없어요.\n",
        "#@markdown <br>If your voice pitch is low, please choose Rivo, otherwise Miri.\n",
        "#@markdown <br>본인의 목소리 톤이 낮다면 Rivo를, 아니라면 Miri를 골라 주세요.\n",
        "import os\n",
        "fintune_model = \"Miri\" #@param = [\"Miri\", \"Rivo\"]\n",
        "\n",
        "!apt-get install aria2\n",
        "\n",
        "\n",
        "if fintune_model == \"Miri\":\n",
        "    ! aria2c -x 16 \"https://github.com/EX3exp/MiriVoiceSupport-VITS2/releases/latest/download/Base_Miri.zip\"\n",
        "    !unzip -qq '/content/Base_Miri.zip' -d '/content/drive/MyDrive/MiriVoice/VITS2/checkpoints'\n",
        "elif fintune_model == \"Rivo\":\n",
        "    ! aria2c -x 16 \"https://github.com/EX3exp/MiriVoiceSupport-VITS2/releases/latest/download/Base_Rivo.zip\"\n",
        "    !unzip -qq '/content/Base_Rivo.zip' -d '/content/drive/MyDrive/MiriVoice/VITS2/checkpoints'\n",
        "\n",
        "\n"
      ]
    },
    {
      "cell_type": "code",
      "execution_count": null,
      "metadata": {
        "id": "6ESyRT54s5k8",
        "collapsed": true,
        "cellView": "form"
      },
      "outputs": [],
      "source": [
        "dataset_zip_name = \"dataset.zip\" #@param\n",
        "dataset_zip_path = os.path.join(dir_paths[0], dataset_zip_name)\n",
        "\n",
        "if (language == \"English\"):\n",
        "    print(f\"🔸 1. Unzipping dataset ({dataset_zip_path})...\")\n",
        "elif (language == \"한국어\"):\n",
        "    print(f\"🔸 1. 데이터셋 압축 해제 중 ({dataset_zip_path})...\")\n",
        "!unzip -qq '{dataset_zip_path}' -d '{train_main_path}'\n",
        "\n",
        "if (language == \"English\"):\n",
        "    print(f\"✔️ {dataset_zip_name} unzipped in: {train_main_path} \")\n",
        "elif (language == \"한국어\"):\n",
        "    print(f\"✔️ {dataset_zip_name}을(를) {train_main_path}에 압축 해제했어요. \")\n",
        "train_filelist_path = \"\"\n",
        "val_filelist_path = \"\"\n",
        "\n",
        "config_file_dir = \"/content/MiriVoiceSupport-VITS2/configs/\"\n",
        "config_file = \"config-mirivoice-colab-fintune-v2.json\" #@param [\"config-mirivoice-colab-fintune-v2.json\", \"config-mirivoice-colab-no_fintune.json\", \"config-mirivoice-colab-fintune.json\", \"config-mirivoice-colab-enarctic-fintune-v2.json\", \"config-mirivoice-colab-enarctic-no_fintune.json\"]\n",
        "config_path = f\"{config_file_dir}{config_file}\"\n",
        "\n",
        "#@title 2. Set Files | 파일 지정\n",
        "\n",
        "if (language == \"English\"):\n",
        "    print(f\"🔸 2. Building monotonic align...\")\n",
        "elif (language == \"한국어\"):\n",
        "    print(f\"🔸 2. monotonic align 빌드 중...\")\n",
        "os.chdir('/content/MiriVoiceSupport-VITS2/monotonic_align')\n",
        "os.makedirs('/content/MiriVoiceSupport-VITS2/monotonic_align/monotonic_align', exist_ok=True)\n",
        "!python setup.py build_ext --inplace\n",
        "\n",
        "if (language == \"English\"):\n",
        "    print(f\"✔️ Done!\")\n",
        "elif (language == \"한국어\"):\n",
        "    print(f\"✔️ 완료! \")\n"
      ]
    },
    {
      "cell_type": "code",
      "execution_count": null,
      "metadata": {
        "id": "NgQuBTNs0xue",
        "cellView": "form",
        "collapsed": true
      },
      "outputs": [],
      "source": [
        "#@title Audio Preprocess | 오디오 전처리\n",
        "import os\n",
        "import librosa\n",
        "import soundfile as sf\n",
        "\n",
        "folder_tr_path = '/content/train/train'\n",
        "folder_vl_path = '/content/train/validation'\n",
        "\n",
        "length = len(os.listdir(folder_tr_path))\n",
        "\n",
        "print(f\"[   Train set   ]  total: {length-1} downsampling to 44100kHZ ... \")\n",
        "for i, filename in enumerate(os.listdir(folder_tr_path)):\n",
        "    if filename.endswith('.wav'):\n",
        "        file_path = os.path.join(folder_tr_path, filename)\n",
        "\n",
        "        y, sr = librosa.load(file_path, sr=None)\n",
        "        y = librosa.util.normalize(y)\n",
        "        y_resampled = librosa.resample(y, orig_sr=sr, target_sr=44100)\n",
        "\n",
        "\n",
        "        output_file_path = os.path.join(folder_tr_path, filename)\n",
        "\n",
        "        sf.write(output_file_path, y_resampled, 44100)\n",
        "        print(\"*\", end=\"\")\n",
        "\n",
        "print()\n",
        "length = len(os.listdir(folder_vl_path))\n",
        "print(f\"[Validation set]  total: {length-1} downsampling to 44100kHZ\")\n",
        "for i, filename in enumerate(os.listdir(folder_vl_path)):\n",
        "    if filename.endswith('.wav'):\n",
        "        file_path = os.path.join(folder_vl_path, filename)\n",
        "\n",
        "        y, sr = librosa.load(file_path, sr=None)\n",
        "        y = librosa.util.normalize(y)\n",
        "        y_resampled = librosa.resample(y, orig_sr=sr, target_sr=44100)\n",
        "\n",
        "        output_file_path = os.path.join(folder_vl_path, filename)\n",
        "\n",
        "        sf.write(output_file_path, y_resampled, 44100)\n",
        "        print(\"*\", end=\"\")\n",
        "\n",
        "\n"
      ]
    },
    {
      "cell_type": "code",
      "execution_count": null,
      "metadata": {
        "id": "9iFQIAhw3TY1",
        "cellView": "form"
      },
      "outputs": [],
      "source": [
        "#@title Tensorboard | 텐서보드\n",
        "\n",
        "if (language == \"English\"):\n",
        "    print(\"--- TensorBoard ---\")\n",
        "\n",
        "    print()\n",
        "    print(\"Please Run cell right below... \")\n",
        "    print(\"All you have to do is watching TensorBoard at here, And stop training in proper time. (to stop training, press stop button in left of below cell.)\")\n",
        "    print()\n",
        "    print(f\"🧐 Please check scalars' ❇️mel_loss, ❇️kl_loss during training.\")\n",
        "    print(f\"🧐 You might can stop training when: \")\n",
        "    print(f\"\\t- mel_loss is smaller than 15\")\n",
        "    print(f\"\\t- kl_loss is almost 1 or 2\")\n",
        "\n",
        "elif (language == \"한국어\"):\n",
        "    print(\"--- 텐서보드 ---\")\n",
        "\n",
        "    print()\n",
        "    print(\"이제 이 셀 아래의 셀을 실행해 주세요... \")\n",
        "    print(\"여기서 텐서보드를 계속 지켜봐 주세요. 적정한 때에 하단 셀 왼쪽의 정지 버튼을 눌러 훈련을 중단해 주시면 됩니다.\")\n",
        "    print()\n",
        "    print(f\"🧐 훈련이 이루어지는 동안, scalars의 ❇️mel_loss, ❇️kl_loss 에 주목하세요.\")\n",
        "    print(f\"🧐 훈련을 멈춰도 될 때: \")\n",
        "    print(f\"\\t- mel_loss가 15 이하일 때\")\n",
        "    print(f\"\\t- kl_loss가 1~2 가량일 때\")\n",
        "\n",
        "\n",
        "%load_ext tensorboard\n",
        "%tensorboard --logdir '{train_main_path}/logs'\n"
      ]
    },
    {
      "cell_type": "code",
      "execution_count": null,
      "metadata": {
        "id": "jiPG-bd1636M",
        "cellView": "form"
      },
      "outputs": [],
      "source": [
        "#@title Training | 훈련\n",
        "import os\n",
        "os.chdir(train_main_path)\n",
        "!python /content/MiriVoiceSupport-VITS2/train_ms.py -c '{config_path}' -m mirivoice-vits2"
      ]
    }
  ],
  "metadata": {
    "accelerator": "GPU",
    "colab": {
      "cell_execution_strategy": "setup",
      "gpuType": "L4",
      "machine_shape": "hm",
      "provenance": [],
      "include_colab_link": true
    },
    "kernelspec": {
      "display_name": "Python 3",
      "name": "python3"
    },
    "language_info": {
      "name": "python"
    }
  },
  "nbformat": 4,
  "nbformat_minor": 0
}