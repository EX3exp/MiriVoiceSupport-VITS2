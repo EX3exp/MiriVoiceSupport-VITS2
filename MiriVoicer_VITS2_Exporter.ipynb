{
  "nbformat": 4,
  "nbformat_minor": 0,
  "metadata": {
    "colab": {
      "provenance": [],
      "authorship_tag": "ABX9TyMPi+tj37p+g3LyJ2Uo7ImQ",
      "include_colab_link": true
    },
    "kernelspec": {
      "name": "python3",
      "display_name": "Python 3"
    },
    "language_info": {
      "name": "python"
    }
  },
  "cells": [
    {
      "cell_type": "markdown",
      "metadata": {
        "id": "view-in-github",
        "colab_type": "text"
      },
      "source": [
        "<a href=\"https://colab.research.google.com/github/EX3exp/MiriVoiceSupport-VITS2/blob/main/MiriVoicer_VITS2_Exporter.ipynb\" target=\"_parent\"><img src=\"https://colab.research.google.com/assets/colab-badge.svg\" alt=\"Open In Colab\"/></a>"
      ]
    },
    {
      "cell_type": "code",
      "execution_count": null,
      "metadata": {
        "cellView": "form",
        "id": "QJ2xe05OMz9V"
      },
      "outputs": [],
      "source": [
        "#@title 1. Set Up | 환경 설치\n",
        "#@markdown You Don't need to use GPU in this Notebook. CPU is enough!\n",
        "#@markdown <br> 이 노트북은 CPU로도 충분히 굴러갑니다. GPU를 켜지 마세요!\n",
        "\n",
        "print(f\"🔸 1. Cloning MiriVoiceSupport-VITS2 Github...\")\n",
        "!git clone https://github.com/EX3exp/MiriVoiceSupport-VITS2.git\n",
        "\n",
        "print(f\"✔️ Done!\")\n",
        "\n",
        "!apt-get install espeak\n",
        "\n",
        "\n",
        "print(\"\\n\\n\")\n",
        "print(f\"🔸 2. Installing Dependencies...\")\n",
        "\n",
        "!pip install -r /content/MiriVoiceSupport-VITS2/requirements.txt\n",
        "\n",
        "\n",
        "\n",
        "print(f\"✔️ Done!\")\n",
        "\n",
        "\n",
        "\n",
        "\n",
        "print(\"\\n\\n\")\n",
        "print(\"✔️✔️✔️ Please Restart Session! | 세션을 다시 시작해 주세요!\")\n"
      ]
    },
    {
      "cell_type": "code",
      "source": [
        "#@title MiriVoice VITS2 Voicer Exporter Notebook <br>훈련이 끝난 모델을 미리보이스에서 구동 가능한 형태로 출력하는 콜랍 노트북이에요.\n",
        "#@markdown <br>MiriVoice Github ➡️ https://github.com/EX3exp/MiriVoice\n",
        "#@markdown <br><br> Reference | 참조자료 : <br> https://arxiv.org/abs/2307.16430 <br> https://github.com/p0p4k/vits2_pytorch\n",
        "\n",
        "#@markdown 📖 [EN] Please select Notebook's language. <br> Messages will be appeared with selected language.\n",
        "#@markdown <br>📖 [KO] 노트북의 언어를 골라 주세요. <br> 설정된 언어로 노트북의 메시지들이 표시됩니다.\n",
        "language = \"한국어\" #@param = [\"English\", \"한국어\"]\n",
        "import json\n",
        "import yaml"
      ],
      "metadata": {
        "cellView": "form",
        "id": "YXY9PVTyNSAO"
      },
      "execution_count": null,
      "outputs": []
    },
    {
      "cell_type": "code",
      "source": [
        "#@title Mount Google Drive | 구글 드라이브 마운트\n",
        "from google.colab import drive\n",
        "drive.mount('/content/drive')"
      ],
      "metadata": {
        "colab": {
          "base_uri": "https://localhost:8080/"
        },
        "id": "yTbeRur2mXqx",
        "outputId": "0bc351d7-26f9-4579-ba29-07e83ac1fa45",
        "cellView": "form"
      },
      "execution_count": null,
      "outputs": [
        {
          "output_type": "stream",
          "name": "stdout",
          "text": [
            "Mounted at /content/drive\n"
          ]
        }
      ]
    },
    {
      "cell_type": "code",
      "source": [
        "#@title 1. Generate voicer.onnx | voicer.onnx 제작\n",
        "#@markdown Example: <br> If your best model was G_10000 & D_10000, checkpoint_to_export is 10000. <br> If your best model was G_55000 & D_55000, checkpoint_to_export is 55000. <br> 만일 가장 성능이 좋았던 모델이 G_10000 & D_10000이었다면, checkpoint_to_export는 10000이에요. <br> 만일 가장 성능이 좋았던 모델이 G_55000 & D_55000이었다면, checkpoint_to_export는 55000이에요.\n",
        "import os\n",
        "config_file_dir = \"/content/MiriVoiceSupport-VITS2/configs/\"\n",
        "config_file = \"config-mirivoice-colab-fintune.json\" #@param [\"config-mirivoice-colab-no_fintune.json\", \"config-mirivoice-colab-fintune.json\"]\n",
        "config_path = f\"{config_file_dir}{config_file}\"\n",
        "\n",
        "\n",
        "voicer_onnx_dir = \"/content/drive/MyDrive/MiriVoice/VITS2/voicer/\"\n",
        "voicer_onnx_name = \"voicer.onnx\"\n",
        "voicer_onnx_path = f\"{voicer_onnx_dir}{voicer_onnx_name}\"\n",
        "voicer_yaml_path = f\"{voicer_onnx_dir}voicer.yaml\"\n",
        "config_yaml_path = f\"{voicer_onnx_dir}config.yaml\"\n",
        "readme_path = f\"{voicer_onnx_dir}readme.txt\"\n",
        "\n",
        "checkpoint_to_export = None #@param\n",
        "\n",
        "\n",
        "if (language == \"English\"):\n",
        "    print(f\"🔸 1. Building monotonic align...\")\n",
        "elif (language == \"한국어\"):\n",
        "    print(f\"🔸 1. monotonic align 빌드 중...\")\n",
        "os.chdir('/content/MiriVoiceSupport-VITS2/monotonic_align')\n",
        "os.makedirs('/content/MiriVoiceSupport-VITS2/monotonic_align/monotonic_align', exist_ok=True)\n",
        "!python setup.py build_ext --inplace\n",
        "if (language == \"English\"):\n",
        "    print(f\"✔️ Done!\")\n",
        "elif (language == \"한국어\"):\n",
        "    print(f\"✔️ 완료! \")\n",
        "\n",
        "if (language == \"English\"):\n",
        "    print(f\"🔸 2. Exporting onnx...\")\n",
        "elif (language == \"한국어\"):\n",
        "    print(f\"🔸 2. onnx 출력 중...\")\n",
        "!python /content/MiriVoiceSupport-VITS2/export_onnx.py --model-path='/content/drive/MyDrive/MiriVoice/VITS2/checkpoints/G_{checkpoint_to_export}.pth' --config-path='{config_path}' --output='{voicer_onnx_path}'\n",
        "\n",
        "if (language == \"English\"):\n",
        "    print(f\"✔️ Done!\")\n",
        "elif (language == \"한국어\"):\n",
        "    print(f\"✔️ 완료! \")\n"
      ],
      "metadata": {
        "id": "GXsZxNNnWtLC",
        "cellView": "form"
      },
      "execution_count": null,
      "outputs": []
    },
    {
      "cell_type": "code",
      "source": [
        "#@title 2. Generate voicer.yaml | voicer.yaml 제작\n",
        "#@markdown You can reuse voicer.yaml in multiple Voicers, but It's Not Recommended - It is containing Unique Id in \"uuid\" section! <br> voicer.yaml의 재사용은 가능하나, 추천하지 않습니다. \"uuid\"란에 성우별로 고유한 값의 id가 담겨 있기 때문이에요!\n",
        "\n",
        "name = \"\" #@param {\"type\":\"string\", \"placeholder\":\"Voicer Name | 성우 이름\"}\n",
        "\n",
        "nickname = \"\" #@param {\"type\":\"string\", \"placeholder\":\"Voicer Nickname | 성우 애칭\"}\n",
        "description = \"\" #@param {\"type\":\"string\", \"placeholder\":\"\"}\n",
        "\n",
        "voice = \"\" #@param {\"type\":\"string\" ,\"placeholder\": \"Voice Provider | 음성제공자\"}\n",
        "\n",
        "author= \"\" #@param {\"type\":\"string\" ,\"placeholder\": \"Owner | 관리자\"}\n",
        "engineer= \"\" #@param {\"type\":\"string\" ,\"placeholder\": \"AI Engineer | 개발자\"}\n",
        "illustrator=  \"\" #@param {\"type\":\"string\" ,\"placeholder\": \"Illustrator | 일러스트 담당자\"}\n",
        "web= \"\" #@param {\"type\":\"string\" ,\"placeholder\": \"https:// ...link to your official website \"}\n",
        "icon= \"\" #@param {\"type\":\"string\" ,\"placeholder\": \"icon.png\"}\n",
        "portrait= \"\" #@param {\"type\":\"string\" ,\"placeholder\": \"portrait.png\"}\n",
        "\n",
        "configPath = \"config.yaml\"\n",
        "\n",
        "\n",
        "langCode= \"ko\" #@param {\"type\":\"string\" ,\"placeholder\": \"ko\"}\n",
        "\n",
        "version= \"1.0.0\" #@param {\"type\":\"string\" ,\"placeholder\": \"version number\"}\n",
        "\n",
        "#@markdown\n",
        "#@markdown\n",
        "style1_name = \"\"#@param {\"type\":\"string\" ,\"placeholder\": \"Style's Name | 스타일 이름\"}\n",
        "style1_Id = 0 #@param {\"type\":\"integer\" ,\"placeholder\": \"Model's Speaker Id | 모델의 화자 번호\"}\n",
        "style1_phrase = \"\"#@param {\"type\":\"string\" ,\"placeholder\": \"Style's Sample Phrase | 스타일 샘플 대사\"}\n",
        "style1_description = \"\" #@param {\"type\":\"string\" ,\"placeholder\": \"Style's Description | 스타일 설명\"}\n",
        "\n",
        "#@markdown <br>**If your voicer don't have 2nd style, Do not check enable_style_2**. <br> **성우가 두 번째 스타일을 보유했을 경우에만 enable_style_2에 체크하세요.**\n",
        "enable_style_2 = True #@param {\"type\":\"boolean\" }\n",
        "\n",
        "style2_name = \"\"#@param {\"type\":\"string\" ,\"placeholder\": \"Style's Name | 스타일 이름\"}\n",
        "style2_Id = 1 #@param {\"type\":\"integer\" ,\"placeholder\": \"Model's Speaker Id | 모델의 화자 번호\"}\n",
        "style2_phrase = \"\"#@param {\"type\":\"string\" ,\"placeholder\": \"Style's Sample Phrase | 스타일 샘플 대사\"}\n",
        "style2_description = \"\" #@param {\"type\":\"string\" ,\"placeholder\": \"Style's Description | 스타일 설명\"}\n",
        "\n",
        "\n",
        "#@markdown <br>**If your voicer don't have 3rd style, Do not check enable_style_3**. <br> **성우가 세 번째 스타일을 보유했을 경우에만 enable_style_3에 체크하세요.**\n",
        "enable_style_3 = True #@param {\"type\":\"boolean\" }\n",
        "\n",
        "style3_name = \"\"#@param {\"type\":\"string\" ,\"placeholder\": \"Style's Name | 스타일 이름\"}\n",
        "style3_Id = 2 #@param {\"type\":\"integer\" ,\"placeholder\": \"Model's Speaker Id | 모델의 화자 번호\"}\n",
        "style3_phrase = \"\"#@param {\"type\":\"string\" ,\"placeholder\": \"Style's Sample Phrase | 스타일 샘플 대사\"}\n",
        "style3_description = \"\" #@param {\"type\":\"string\" ,\"placeholder\": \"Style's Description | 스타일 설명\"}\n",
        "\n",
        "#@markdown <br>**If your voicer don't have 4th style, Do not check enable_style_4**. <br> **성우가 네 번째 스타일을 보유했을 경우에만 enable_style_4에 체크하세요.**\n",
        "enable_style_4 = True #@param {\"type\":\"boolean\" }\n",
        "\n",
        "style4_name = \"\"#@param {\"type\":\"string\" ,\"placeholder\": \"Style's Name | 스타일 이름\"}\n",
        "style4_Id = 3 #@param {\"type\":\"integer\" ,\"placeholder\": \"Model's Speaker Id | 모델의 화자 번호\"}\n",
        "style4_phrase = \"\"#@param {\"type\":\"string\" ,\"placeholder\": \"Style's Sample Phrase | 스타일 샘플 대사\"}\n",
        "style4_description = \"\" #@param {\"type\":\"string\" ,\"placeholder\": \"Style's Description | 스타일 설명\"}\n",
        "\n",
        "\n",
        "#@markdown <br>After download, Please edit \"readme.txt\" in your Voicer's folder.\n",
        "#@markdown <br> 다운로드받은 후, 반드시 폴더 내의 \"readme.txt\"를 수정해 성우 캐릭터의 이용 규약을 넣어 주세요.\n",
        "\n",
        "import uuid\n",
        "\n",
        "voicer_dict = {}\n",
        "\n",
        "voicer_dict[\"name\"] = name\n",
        "voicer_dict[\"nickname\"] = nickname\n",
        "voicer_dict[\"description\"] = description\n",
        "voicer_dict[\"voice\"] = voice\n",
        "voicer_dict[\"author\"] = author\n",
        "voicer_dict[\"engineer\"] = engineer\n",
        "voicer_dict[\"illustrator\"] = illustrator\n",
        "voicer_dict[\"web\"] = web\n",
        "voicer_dict[\"icon\"] = icon\n",
        "voicer_dict[\"portrait\"] = portrait\n",
        "voicer_dict[\"type\"] = \"VITS2\"\n",
        "voicer_dict[\"configPath\"] = configPath\n",
        "#voicer_dict[\"updateUrlGithub\"] = \"\" # TODO\n",
        "voicer_dict[\"langCode\"] = langCode\n",
        "voicer_dict[\"version\"] = version\n",
        "voicer_dict[\"readme\"] = \"readme.txt\"\n",
        "voicer_dict[\"voicerMetas\"] = [{\"style\": style1_name, \"speakerId\": style1_Id, \"phrase\": style1_phrase, \"description\": style1_description}]\n",
        "voicer_dict[\"uuid\"] = str(uuid.uuid4())\n",
        "\n",
        "if enable_style_2:\n",
        "    voicer_dict[\"voicerMetas\"].append({\"style\": style2_name, \"speakerId\": style2_Id, \"phrase\": style2_phrase, \"description\": style2_description})\n",
        "if enable_style_3:\n",
        "    voicer_dict[\"voicerMetas\"].append({\"style\": style3_name, \"speakerId\": style3_Id, \"phrase\": style3_phrase, \"description\": style3_description})\n",
        "if enable_style_4:\n",
        "    voicer_dict[\"voicerMetas\"].append({\"style\": style4_name, \"speakerId\": style4_Id, \"phrase\": style4_phrase, \"description\": style4_description})\n",
        "\n",
        "vyaml_string=yaml.dump(voicer_dict, allow_unicode=True, sort_keys=False)\n",
        "if (language == \"English\"):\n",
        "    print(f\"🔸 1. Exporting voicer.yaml...\")\n",
        "elif (language == \"한국어\"):\n",
        "    print(f\"🔸 1. voicer.yaml 출력 중...\")\n",
        "\n",
        "with open(voicer_yaml_path, \"w\", encoding=\"utf-8\") as f:\n",
        "    f.write(f\"{vyaml_string}\")\n",
        "print(vyaml_string)\n",
        "if (language == \"English\"):\n",
        "    print(f\"✔️ Done!\")\n",
        "elif (language == \"한국어\"):\n",
        "    print(f\"✔️ 완료! \")\n",
        "\n",
        "with open(readme_path, \"w\", encoding=\"utf-8\") as f:\n",
        "    f.write(\"\")"
      ],
      "metadata": {
        "id": "flUTVrItO6dR",
        "cellView": "form"
      },
      "execution_count": null,
      "outputs": []
    },
    {
      "cell_type": "code",
      "source": [
        "#@title 3. Generate config.yaml | config.yaml 제작\n",
        "\n",
        "with open(config_path, \"r\", encoding=\"utf-8\") as f:\n",
        "    json_string = f.read()\n",
        "\n",
        "config_dict=json.loads(json_string)\n",
        "config_dict.pop(\"train\", None)\n",
        "config_dict[\"data\"].pop(\"training_files\", None)\n",
        "config_dict[\"data\"].pop(\"validation_files\", None)\n",
        "config_dict[\"data\"].pop(\"text_cleaners\", None)\n",
        "config_dict[\"data\"].pop(\"cleaned_text\", None)\n",
        "cyaml_string=yaml.dump(config_dict)\n",
        "if (language == \"English\"):\n",
        "    print(f\"🔸 1. Exporting config.yaml...\")\n",
        "elif (language == \"한국어\"):\n",
        "    print(f\"🔸 1. config.yaml 출력 중...\")\n",
        "\n",
        "with open(config_yaml_path, \"w\", encoding=\"utf-8\") as f:\n",
        "    f.write(f\"modelPath: \\\"voicer.onnx\\\"\\n{cyaml_string}\")\n",
        "print(f\"modelPath: \\\"voicer.onnx\\\"\\n{cyaml_string}\")\n",
        "if (language == \"English\"):\n",
        "    print(f\"✔️ Done!\")\n",
        "elif (language == \"한국어\"):\n",
        "    print(f\"✔️ 완료! \")"
      ],
      "metadata": {
        "id": "qXl7IX0uPBkh",
        "cellView": "form"
      },
      "execution_count": null,
      "outputs": []
    },
    {
      "cell_type": "code",
      "source": [
        "#@title 4. Make zip file of voicer | voicer 압축 파일 생성\n",
        "\n",
        "zip_name = \"\"\n",
        "if (voicer_dict[\"name\"] == ''):\n",
        "    zip_name = \"voicer\"\n",
        "else:\n",
        "    zip_name = voicer_dict[\"name\"]\n",
        "\n",
        "!cd \"/content/drive/MyDrive/MiriVoice/VITS2/voicer\" && zip -r \"../../{zip_name}.zip\" ./*\n",
        "\n",
        "if (language == \"English\"):\n",
        "    print(f\"🔸 Done! You can download {zip_name}.zip from /content/drive/MyDrive/MiriVoice/ in your google drive.\")\n",
        "elif (language == \"한국어\"):\n",
        "    print(f\"🔸 완료! 구글 드라이브의 /content/drive/MyDrive/MiriVoice/에서 {zip_name}.zip을 다운로드해 주세요.\")"
      ],
      "metadata": {
        "colab": {
          "base_uri": "https://localhost:8080/"
        },
        "id": "PSHJlRNTPFPJ",
        "outputId": "882e4d47-95b0-4404-d5d3-b101fbd97904",
        "cellView": "form",
        "collapsed": true
      },
      "execution_count": null,
      "outputs": [
        {
          "output_type": "stream",
          "name": "stdout",
          "text": [
            "updating: config.yaml (deflated 58%)\n",
            "updating: readme.txt (stored 0%)\n",
            "updating: voicer.onnx (deflated 8%)\n",
            "updating: voicer.yaml (deflated 39%)\n",
            "🔸 완료! 구글 드라이브의 /content/drive/MyDrive/MiriVoice/에서 Miri.zip을 다운로드해 주세요.\n"
          ]
        }
      ]
    }
  ]
}